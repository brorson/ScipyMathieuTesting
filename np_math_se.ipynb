{
 "cells": [
  {
   "cell_type": "code",
   "execution_count": 1,
   "id": "4b4bcc47",
   "metadata": {},
   "outputs": [],
   "source": [
    "from mpmath import mp, matrix, eig, sqrt\n",
    "import matplotlib.pyplot as plt\n",
    "import numpy as np"
   ]
  },
  {
   "cell_type": "code",
   "execution_count": 2,
   "id": "2d02c7b3",
   "metadata": {},
   "outputs": [],
   "source": [
    "mp.dps = 25  # Set precision\n",
    "\n",
    "# ALL THE THINGS BELOW AREN'T INTEGRATED WITH mpmath yet"
   ]
  },
  {
   "cell_type": "code",
   "execution_count": 3,
   "id": "91bc6f47",
   "metadata": {},
   "outputs": [],
   "source": [
    "def tridiagonal_matrix(n, a, b, c):\n",
    "    M = np.zeros((n, n))\n",
    "    print(f'shape a = {a.shape}, shape b = {b.shape}, c shape = {c.shape}')\n",
    "    for i in range(n):\n",
    "        M[i][i] = b[i]\n",
    "        if i > 0:\n",
    "            M[i][i-1] = a[i]\n",
    "        if i < n - 1:\n",
    "            M[i][i+1] = c[i]\n",
    "\n",
    "    return M\n"
   ]
  },
  {
   "cell_type": "code",
   "execution_count": 4,
   "id": "1fa01df6",
   "metadata": {},
   "outputs": [
    {
     "name": "stdout",
     "output_type": "stream",
     "text": [
      "shape a = (20, 1), shape b = (20, 1), c shape = (20, 1)\n"
     ]
    },
    {
     "name": "stderr",
     "output_type": "stream",
     "text": [
      "/var/folders/wt/zm67l5653nz4gjnqr_vxcvnc0000gn/T/ipykernel_36562/1563754409.py:5: DeprecationWarning: Conversion of an array with ndim > 0 to a scalar is deprecated, and will error in future. Ensure you extract a single element from your array before performing this operation. (Deprecated NumPy 1.25.)\n",
      "  M[i][i] = b[i]\n",
      "/var/folders/wt/zm67l5653nz4gjnqr_vxcvnc0000gn/T/ipykernel_36562/1563754409.py:9: DeprecationWarning: Conversion of an array with ndim > 0 to a scalar is deprecated, and will error in future. Ensure you extract a single element from your array before performing this operation. (Deprecated NumPy 1.25.)\n",
      "  M[i][i+1] = c[i]\n",
      "/var/folders/wt/zm67l5653nz4gjnqr_vxcvnc0000gn/T/ipykernel_36562/1563754409.py:7: DeprecationWarning: Conversion of an array with ndim > 0 to a scalar is deprecated, and will error in future. Ensure you extract a single element from your array before performing this operation. (Deprecated NumPy 1.25.)\n",
      "  M[i][i-1] = a[i]\n"
     ]
    },
    {
     "data": {
      "text/plain": [
       "array([[2., 3., 0., 0., 0., 0., 0., 0., 0., 0., 0., 0., 0., 0., 0., 0.,\n",
       "        0., 0., 0., 0.],\n",
       "       [1., 2., 3., 0., 0., 0., 0., 0., 0., 0., 0., 0., 0., 0., 0., 0.,\n",
       "        0., 0., 0., 0.],\n",
       "       [0., 1., 2., 3., 0., 0., 0., 0., 0., 0., 0., 0., 0., 0., 0., 0.,\n",
       "        0., 0., 0., 0.],\n",
       "       [0., 0., 1., 2., 3., 0., 0., 0., 0., 0., 0., 0., 0., 0., 0., 0.,\n",
       "        0., 0., 0., 0.],\n",
       "       [0., 0., 0., 1., 2., 3., 0., 0., 0., 0., 0., 0., 0., 0., 0., 0.,\n",
       "        0., 0., 0., 0.],\n",
       "       [0., 0., 0., 0., 1., 2., 3., 0., 0., 0., 0., 0., 0., 0., 0., 0.,\n",
       "        0., 0., 0., 0.],\n",
       "       [0., 0., 0., 0., 0., 1., 2., 3., 0., 0., 0., 0., 0., 0., 0., 0.,\n",
       "        0., 0., 0., 0.],\n",
       "       [0., 0., 0., 0., 0., 0., 1., 2., 3., 0., 0., 0., 0., 0., 0., 0.,\n",
       "        0., 0., 0., 0.],\n",
       "       [0., 0., 0., 0., 0., 0., 0., 1., 2., 3., 0., 0., 0., 0., 0., 0.,\n",
       "        0., 0., 0., 0.],\n",
       "       [0., 0., 0., 0., 0., 0., 0., 0., 1., 2., 3., 0., 0., 0., 0., 0.,\n",
       "        0., 0., 0., 0.],\n",
       "       [0., 0., 0., 0., 0., 0., 0., 0., 0., 1., 2., 3., 0., 0., 0., 0.,\n",
       "        0., 0., 0., 0.],\n",
       "       [0., 0., 0., 0., 0., 0., 0., 0., 0., 0., 1., 2., 3., 0., 0., 0.,\n",
       "        0., 0., 0., 0.],\n",
       "       [0., 0., 0., 0., 0., 0., 0., 0., 0., 0., 0., 1., 2., 3., 0., 0.,\n",
       "        0., 0., 0., 0.],\n",
       "       [0., 0., 0., 0., 0., 0., 0., 0., 0., 0., 0., 0., 1., 2., 3., 0.,\n",
       "        0., 0., 0., 0.],\n",
       "       [0., 0., 0., 0., 0., 0., 0., 0., 0., 0., 0., 0., 0., 1., 2., 3.,\n",
       "        0., 0., 0., 0.],\n",
       "       [0., 0., 0., 0., 0., 0., 0., 0., 0., 0., 0., 0., 0., 0., 1., 2.,\n",
       "        3., 0., 0., 0.],\n",
       "       [0., 0., 0., 0., 0., 0., 0., 0., 0., 0., 0., 0., 0., 0., 0., 1.,\n",
       "        2., 3., 0., 0.],\n",
       "       [0., 0., 0., 0., 0., 0., 0., 0., 0., 0., 0., 0., 0., 0., 0., 0.,\n",
       "        1., 2., 3., 0.],\n",
       "       [0., 0., 0., 0., 0., 0., 0., 0., 0., 0., 0., 0., 0., 0., 0., 0.,\n",
       "        0., 1., 2., 3.],\n",
       "       [0., 0., 0., 0., 0., 0., 0., 0., 0., 0., 0., 0., 0., 0., 0., 0.,\n",
       "        0., 0., 1., 2.]])"
      ]
     },
     "execution_count": 4,
     "metadata": {},
     "output_type": "execute_result"
    }
   ],
   "source": [
    "tridiagonal_matrix(20, np.ones((20, 1)), 2* np.ones((20, 1)),3* np.ones((20, 1)))"
   ]
  },
  {
   "cell_type": "code",
   "execution_count": 5,
   "id": "5b4cf7f0",
   "metadata": {},
   "outputs": [],
   "source": [
    "def make_matrix_o(N, q, vn):\n",
    "    \n",
    "    h = vn[1]-vn[0]\n",
    "    c = 2*q*np.cos(2* vn[1:-1]).reshape(len(vn)- 2,1)\n",
    "    # c_bfore_restack = np.append(np.zeros((1,1)), 2*q*np.cos(2* vn[1:-1]).reshape(len(vn)- 2,1)).reshape(len(vn)- 1,1)\n",
    "    # c = np.append(c_bfore_restack, np.zeros((1,1))).reshape(len(vn), 1)\n",
    "\n",
    "    # zero at the ends\n",
    "    # print(f'c = {c_bfore_restack}')\n",
    "    # print(c_bfore_restack.shape)\n",
    "    \n",
    "    hm2 = np.ones((N,1))/(h*h)\n",
    "    l = -2*hm2-c\n",
    "    # print(f'l = {l.shape}')\n",
    "    \n",
    "    A = tridiagonal_matrix(N, hm2, l , hm2)\n",
    "\n",
    "    # No boundary condition\n",
    "   \n",
    "    # print(A)\n",
    "    return A\n"
   ]
  },
  {
   "cell_type": "code",
   "execution_count": 6,
   "id": "9677f617",
   "metadata": {},
   "outputs": [
    {
     "name": "stdout",
     "output_type": "stream",
     "text": [
      "shape a = (8, 1), shape b = (8, 1), c shape = (8, 1)\n"
     ]
    },
    {
     "name": "stderr",
     "output_type": "stream",
     "text": [
      "/var/folders/wt/zm67l5653nz4gjnqr_vxcvnc0000gn/T/ipykernel_36562/1563754409.py:5: DeprecationWarning: Conversion of an array with ndim > 0 to a scalar is deprecated, and will error in future. Ensure you extract a single element from your array before performing this operation. (Deprecated NumPy 1.25.)\n",
      "  M[i][i] = b[i]\n",
      "/var/folders/wt/zm67l5653nz4gjnqr_vxcvnc0000gn/T/ipykernel_36562/1563754409.py:9: DeprecationWarning: Conversion of an array with ndim > 0 to a scalar is deprecated, and will error in future. Ensure you extract a single element from your array before performing this operation. (Deprecated NumPy 1.25.)\n",
      "  M[i][i+1] = c[i]\n",
      "/var/folders/wt/zm67l5653nz4gjnqr_vxcvnc0000gn/T/ipykernel_36562/1563754409.py:7: DeprecationWarning: Conversion of an array with ndim > 0 to a scalar is deprecated, and will error in future. Ensure you extract a single element from your array before performing this operation. (Deprecated NumPy 1.25.)\n",
      "  M[i][i-1] = a[i]\n"
     ]
    },
    {
     "data": {
      "text/plain": [
       "array([[-4.45080429,  2.05175397,  0.        ,  0.        ,  0.        ,\n",
       "         0.        ,  0.        ,  0.        ],\n",
       "       [ 2.05175397, -2.2241227 ,  2.05175397,  0.        ,  0.        ,\n",
       "         0.        ,  0.        ,  0.        ],\n",
       "       [ 0.        ,  2.05175397, -3.10350794,  2.05175397,  0.        ,\n",
       "         0.        ,  0.        ,  0.        ],\n",
       "       [ 0.        ,  0.        ,  2.05175397, -5.63559682,  2.05175397,\n",
       "         0.        ,  0.        ,  0.        ],\n",
       "       [ 0.        ,  0.        ,  0.        ,  2.05175397, -5.63559682,\n",
       "         2.05175397,  0.        ,  0.        ],\n",
       "       [ 0.        ,  0.        ,  0.        ,  0.        ,  2.05175397,\n",
       "        -3.10350794,  2.05175397,  0.        ],\n",
       "       [ 0.        ,  0.        ,  0.        ,  0.        ,  0.        ,\n",
       "         2.05175397, -2.2241227 ,  2.05175397],\n",
       "       [ 0.        ,  0.        ,  0.        ,  0.        ,  0.        ,\n",
       "         0.        ,  2.05175397, -4.45080429]])"
      ]
     },
     "execution_count": 6,
     "metadata": {},
     "output_type": "execute_result"
    }
   ],
   "source": [
    "vn = np.linspace(-np.pi, np.pi, 10)\n",
    "make_matrix_o(len(vn)-2, 1,vn)\n",
    "# match with matlab"
   ]
  },
  {
   "cell_type": "code",
   "execution_count": null,
   "id": "2071f0a5",
   "metadata": {},
   "outputs": [],
   "source": []
  },
  {
   "cell_type": "code",
   "execution_count": 7,
   "id": "4c10582e",
   "metadata": {},
   "outputs": [],
   "source": [
    "# make matrix e\n",
    "from scipy import integrate\n",
    "\n",
    "def mathieu_se(Ne, q, N):\n",
    "\n",
    "\n",
    "    v = np.linspace(-np.pi, np.pi, N)\n",
    "    A = make_matrix_o(N-2, q,v)\n",
    "\n",
    "\n",
    "\n",
    "\n",
    "    # print(f'A= {A}')\n",
    "    Draw, Sraw = np.linalg.eig(A) # (N-2, N-2)\n",
    "    # print(f'Sraw = {Sraw}')\n",
    "    # print(f'D = {Draw}')\n",
    "    Dreal = [val.real for val in Draw]\n",
    "\n",
    "    Denum = list(enumerate(Dreal))\n",
    "    Didx = sorted(Denum, key=lambda x: x[1], reverse=True)\n",
    "    idx = [idx for idx, val in Didx]\n",
    "\n",
    "\n",
    "    S = Sraw[:, idx]\n",
    "    \n",
    "    # shifting could happen potentially because of stacking \n",
    "\n",
    "    # print(f'S after sorting = {S}')\n",
    "    # se_1 = np.vstack((np.zeros((1,Ne)) ,S))\n",
    "    # se = np.vstack((se_1, np.zeros((1,Ne))))\n",
    "\n",
    "    se = np.vstack([np.zeros((1, S.shape[1])), S, np.zeros((1, S.shape[1]))])\n",
    "\n",
    "    se = se[:, 1:2*Ne:2]\n",
    "    # print(f'se = {se}')\n",
    "    # # even \n",
    "    # # ce = mp.matrix(selected_cols_data)\n",
    "    # # print(f'ce before norm = {ce}')\n",
    "    \n",
    "    # # print(f'ce[0, :])\n",
    "    \n",
    "    # Getting the correct sign of functions\n",
    "    zidx = N // 2\n",
    "    # h = v[1] - v[0]\n",
    "\n",
    "\n",
    "    for j in range(Ne):\n",
    "        diff = se[zidx + 1, j] - se[zidx , j]\n",
    "        if diff < 0:\n",
    "            se[:, j] = - se[:, j]\n",
    "            \n",
    "\n",
    "    # Normalisation 28.2.30\n",
    "    # ce shape : (N, Ne)\n",
    "\n",
    "    norm_cols = []\n",
    "    h = v[1] -  v[0]\n",
    "\n",
    "    # change it to normal matrix so that I can \n",
    "    # print(f'ce = {ce[:, 0]}')\n",
    "\n",
    "    # Normalisation for ce_n\n",
    "    for j in range(se.shape[1]):\n",
    "        int_col = 0\n",
    "        for i in range(1, se.shape[0]):\n",
    "            int_f_ij = (0.5) * ((se[i - 1 , j])**2 + (se[i, j])**2) * h\n",
    "            int_col += int_f_ij\n",
    "        # int_col += (0.5) * ((ce[i - 1 , j])**2 + (ce[i, j])**2) * h\n",
    "        traps_norm = sqrt(int_col / mp.pi) \n",
    "        norm_cols.append(traps_norm)\n",
    "    \n",
    "    # print(f'norm_cols = {len(norm_cols)}')\n",
    "    # for k in range(ce.rows):\n",
    "    for l in range(se.shape[1]):\n",
    "        # print(norm_cols[l])\n",
    "        se[:, l] = se[:, l] / norm_cols[l]\n",
    "    \n",
    "    # make this consistent with the implementation in matlab and REU\n",
    "\n",
    "    # print(f'ce after norm= {ce}')\n",
    "\n",
    "\n",
    "\n",
    "    # check the normalisation from Matlab \n",
    "\n",
    "    # print(f'ce = {ce[:, 0]}')\n",
    "    \n",
    "    # if q == 0:\n",
    "\n",
    "    # did not get the values with both normalisation, check why\n",
    "\n",
    "\n",
    "    # print(f'se shape = {se.shape}')\n",
    "\n",
    "\n",
    "    return se # technically some of the normalisation gives me 0.9999999999999999999999999871 see if this is a problem\n",
    "\n"
   ]
  },
  {
   "cell_type": "code",
   "execution_count": 8,
   "id": "81676499",
   "metadata": {},
   "outputs": [
    {
     "name": "stdout",
     "output_type": "stream",
     "text": [
      "shape a = (8, 1), shape b = (8, 1), c shape = (8, 1)\n"
     ]
    },
    {
     "name": "stderr",
     "output_type": "stream",
     "text": [
      "/var/folders/wt/zm67l5653nz4gjnqr_vxcvnc0000gn/T/ipykernel_36562/1563754409.py:5: DeprecationWarning: Conversion of an array with ndim > 0 to a scalar is deprecated, and will error in future. Ensure you extract a single element from your array before performing this operation. (Deprecated NumPy 1.25.)\n",
      "  M[i][i] = b[i]\n",
      "/var/folders/wt/zm67l5653nz4gjnqr_vxcvnc0000gn/T/ipykernel_36562/1563754409.py:9: DeprecationWarning: Conversion of an array with ndim > 0 to a scalar is deprecated, and will error in future. Ensure you extract a single element from your array before performing this operation. (Deprecated NumPy 1.25.)\n",
      "  M[i][i+1] = c[i]\n",
      "/var/folders/wt/zm67l5653nz4gjnqr_vxcvnc0000gn/T/ipykernel_36562/1563754409.py:7: DeprecationWarning: Conversion of an array with ndim > 0 to a scalar is deprecated, and will error in future. Ensure you extract a single element from your array before performing this operation. (Deprecated NumPy 1.25.)\n",
      "  M[i][i-1] = a[i]\n"
     ]
    },
    {
     "data": {
      "text/plain": [
       "array([[ 0.        ,  0.        ,  0.        ],\n",
       "       [-0.49591307,  0.81461893,  1.15226677],\n",
       "       [-1.12423055,  0.50926383, -0.82159327],\n",
       "       [-0.83262789, -1.04893208,  0.32518887],\n",
       "       [-0.2165795 , -0.47622247,  0.37618877],\n",
       "       [ 0.2165795 ,  0.47622247, -0.37618877],\n",
       "       [ 0.83262789,  1.04893208, -0.32518887],\n",
       "       [ 1.12423055, -0.50926383,  0.82159327],\n",
       "       [ 0.49591307, -0.81461893, -1.15226677],\n",
       "       [ 0.        ,  0.        ,  0.        ]])"
      ]
     },
     "execution_count": 8,
     "metadata": {},
     "output_type": "execute_result"
    }
   ],
   "source": [
    "mathieu_se(3, 1, 10)"
   ]
  },
  {
   "cell_type": "code",
   "execution_count": 9,
   "id": "6c4260f9",
   "metadata": {},
   "outputs": [
    {
     "name": "stdout",
     "output_type": "stream",
     "text": [
      "shape a = (8, 1), shape b = (8, 1), c shape = (8, 1)\n"
     ]
    },
    {
     "name": "stderr",
     "output_type": "stream",
     "text": [
      "/var/folders/wt/zm67l5653nz4gjnqr_vxcvnc0000gn/T/ipykernel_36562/1563754409.py:5: DeprecationWarning: Conversion of an array with ndim > 0 to a scalar is deprecated, and will error in future. Ensure you extract a single element from your array before performing this operation. (Deprecated NumPy 1.25.)\n",
      "  M[i][i] = b[i]\n",
      "/var/folders/wt/zm67l5653nz4gjnqr_vxcvnc0000gn/T/ipykernel_36562/1563754409.py:9: DeprecationWarning: Conversion of an array with ndim > 0 to a scalar is deprecated, and will error in future. Ensure you extract a single element from your array before performing this operation. (Deprecated NumPy 1.25.)\n",
      "  M[i][i+1] = c[i]\n",
      "/var/folders/wt/zm67l5653nz4gjnqr_vxcvnc0000gn/T/ipykernel_36562/1563754409.py:7: DeprecationWarning: Conversion of an array with ndim > 0 to a scalar is deprecated, and will error in future. Ensure you extract a single element from your array before performing this operation. (Deprecated NumPy 1.25.)\n",
      "  M[i][i-1] = a[i]\n"
     ]
    },
    {
     "data": {
      "text/plain": [
       "array([[ 0.        ,  0.        ,  0.        ],\n",
       "       [-0.62624193,  0.97638027,  0.89749386],\n",
       "       [-1.00115721,  0.35666225, -0.88071413],\n",
       "       [-0.86563155, -0.88480205,  0.06233442],\n",
       "       [-0.32586394, -0.62177082,  0.8154519 ],\n",
       "       [ 0.32586394,  0.62177082, -0.8154519 ],\n",
       "       [ 0.86563155,  0.88480205, -0.06233442],\n",
       "       [ 1.00115721, -0.35666225,  0.88071413],\n",
       "       [ 0.62624193, -0.97638027, -0.89749386],\n",
       "       [ 0.        ,  0.        ,  0.        ]])"
      ]
     },
     "execution_count": 9,
     "metadata": {},
     "output_type": "execute_result"
    }
   ],
   "source": [
    "Ne = 3 # num of eigenvalues\n",
    "Nq = 3  \n",
    "q = np.linspace(0, 10, Nq)\n",
    "N = 10  # discretisation of v\n",
    "# mathieu_a(Ne, -100, N)\n",
    "mathieu_se(Ne, 0.1, N)"
   ]
  },
  {
   "cell_type": "code",
   "execution_count": 10,
   "id": "1e216b53",
   "metadata": {},
   "outputs": [
    {
     "name": "stdout",
     "output_type": "stream",
     "text": [
      "q = -100.000000\n",
      "shape a = (2498, 1), shape b = (2498, 1), c shape = (2498, 1)\n"
     ]
    },
    {
     "name": "stderr",
     "output_type": "stream",
     "text": [
      "/var/folders/wt/zm67l5653nz4gjnqr_vxcvnc0000gn/T/ipykernel_36562/1563754409.py:5: DeprecationWarning: Conversion of an array with ndim > 0 to a scalar is deprecated, and will error in future. Ensure you extract a single element from your array before performing this operation. (Deprecated NumPy 1.25.)\n",
      "  M[i][i] = b[i]\n",
      "/var/folders/wt/zm67l5653nz4gjnqr_vxcvnc0000gn/T/ipykernel_36562/1563754409.py:9: DeprecationWarning: Conversion of an array with ndim > 0 to a scalar is deprecated, and will error in future. Ensure you extract a single element from your array before performing this operation. (Deprecated NumPy 1.25.)\n",
      "  M[i][i+1] = c[i]\n",
      "/var/folders/wt/zm67l5653nz4gjnqr_vxcvnc0000gn/T/ipykernel_36562/1563754409.py:7: DeprecationWarning: Conversion of an array with ndim > 0 to a scalar is deprecated, and will error in future. Ensure you extract a single element from your array before performing this operation. (Deprecated NumPy 1.25.)\n",
      "  M[i][i-1] = a[i]\n"
     ]
    },
    {
     "name": "stdout",
     "output_type": "stream",
     "text": [
      "Golden values written to /Users/aliamy/Desktop/Mathieu/ScipyMathieuTesting/python_generated_gvs/python_mathieu_se_gvs_q-100.000000.csv\n",
      "q = -30.000000\n",
      "shape a = (2498, 1), shape b = (2498, 1), c shape = (2498, 1)\n",
      "Golden values written to /Users/aliamy/Desktop/Mathieu/ScipyMathieuTesting/python_generated_gvs/python_mathieu_se_gvs_q-30.000000.csv\n",
      "q = -10.000000\n",
      "shape a = (2498, 1), shape b = (2498, 1), c shape = (2498, 1)\n",
      "Golden values written to /Users/aliamy/Desktop/Mathieu/ScipyMathieuTesting/python_generated_gvs/python_mathieu_se_gvs_q-10.000000.csv\n",
      "q = -1.000000\n",
      "shape a = (2498, 1), shape b = (2498, 1), c shape = (2498, 1)\n",
      "Golden values written to /Users/aliamy/Desktop/Mathieu/ScipyMathieuTesting/python_generated_gvs/python_mathieu_se_gvs_q-1.000000.csv\n",
      "q = -0.100000\n",
      "shape a = (2498, 1), shape b = (2498, 1), c shape = (2498, 1)\n",
      "Golden values written to /Users/aliamy/Desktop/Mathieu/ScipyMathieuTesting/python_generated_gvs/python_mathieu_se_gvs_q-0.100000.csv\n",
      "q = -0.001000\n",
      "shape a = (2498, 1), shape b = (2498, 1), c shape = (2498, 1)\n",
      "Golden values written to /Users/aliamy/Desktop/Mathieu/ScipyMathieuTesting/python_generated_gvs/python_mathieu_se_gvs_q-0.001000.csv\n",
      "q = 0.001000\n",
      "shape a = (2498, 1), shape b = (2498, 1), c shape = (2498, 1)\n",
      "Golden values written to /Users/aliamy/Desktop/Mathieu/ScipyMathieuTesting/python_generated_gvs/python_mathieu_se_gvs_q0.001000.csv\n",
      "q = 0.010000\n",
      "shape a = (2498, 1), shape b = (2498, 1), c shape = (2498, 1)\n",
      "Golden values written to /Users/aliamy/Desktop/Mathieu/ScipyMathieuTesting/python_generated_gvs/python_mathieu_se_gvs_q0.010000.csv\n",
      "q = 0.100000\n",
      "shape a = (2498, 1), shape b = (2498, 1), c shape = (2498, 1)\n",
      "Golden values written to /Users/aliamy/Desktop/Mathieu/ScipyMathieuTesting/python_generated_gvs/python_mathieu_se_gvs_q0.100000.csv\n",
      "q = 1.000000\n",
      "shape a = (2498, 1), shape b = (2498, 1), c shape = (2498, 1)\n",
      "Golden values written to /Users/aliamy/Desktop/Mathieu/ScipyMathieuTesting/python_generated_gvs/python_mathieu_se_gvs_q1.000000.csv\n",
      "q = 10.000000\n",
      "shape a = (2498, 1), shape b = (2498, 1), c shape = (2498, 1)\n",
      "Golden values written to /Users/aliamy/Desktop/Mathieu/ScipyMathieuTesting/python_generated_gvs/python_mathieu_se_gvs_q10.000000.csv\n",
      "q = 30.000000\n",
      "shape a = (2498, 1), shape b = (2498, 1), c shape = (2498, 1)\n",
      "Golden values written to /Users/aliamy/Desktop/Mathieu/ScipyMathieuTesting/python_generated_gvs/python_mathieu_se_gvs_q30.000000.csv\n",
      "q = 100.000000\n",
      "shape a = (2498, 1), shape b = (2498, 1), c shape = (2498, 1)\n",
      "Golden values written to /Users/aliamy/Desktop/Mathieu/ScipyMathieuTesting/python_generated_gvs/python_mathieu_se_gvs_q100.000000.csv\n"
     ]
    }
   ],
   "source": [
    "import numpy as np\n",
    "import matplotlib.pyplot as plt\n",
    "\n",
    "def write_mathieu_se_gvs(q=None):\n",
    "    \"\"\"\n",
    "    This creates a file with golden values in columns used\n",
    "    to test other impls of the Mathieu ce fcns.\n",
    "    \n",
    "    Parameters:\n",
    "    q : float, optional - if not provided, will prompt for input\n",
    "    \"\"\"\n",
    "    \n",
    "    # Read q from user input if not provided\n",
    "    if q is None:\n",
    "        try:\n",
    "            q = float(input(\"Enter q value: \"))\n",
    "        except ValueError:\n",
    "            print(\"Invalid input for q\")\n",
    "            return\n",
    "    \n",
    "    print(f'q = {q:.6f}')\n",
    "    \n",
    "    N = 2500  # Number of v values\n",
    "    # mathieu_ce only operates over the domain [-pi, pi]\n",
    "    v = np.linspace(-np.pi, np.pi, N)\n",
    "    Ne = 35    # Top order of fcn to request.\n",
    "    \n",
    "    # Compute fcn values\n",
    "    # try:\n",
    "    Ss = mathieu_se(Ne, q, N)  # GVs for different orders are\n",
    "                                # arranged in columns.\n",
    "    # except Exception as e:\n",
    "    #     print(f'mathieu_ce threw exception: {str(e)}')\n",
    "    #     return\n",
    "    \n",
    "    # # Make plots to check the fcns.\n",
    "    # if False:  # Set to True to enable plotting\n",
    "    #     plt.figure()\n",
    "    #     leg = []\n",
    "    #     for i in range(Ne):\n",
    "    #         ce = Ss[:, i]   # Extract one order.\n",
    "    #         plt.plot(v, ce)\n",
    "    #         leg.append(str(i))\n",
    "        \n",
    "    #     plt.xlabel('v')\n",
    "    #     plt.ylabel('ce')\n",
    "    #     plt.legend(leg)\n",
    "    #     plt.title('Golden values')\n",
    "    #     plt.show()\n",
    "    \n",
    "    # Write GVs to a file along with the v value.\n",
    "    filename = f'/Users/aliamy/Desktop/Mathieu/ScipyMathieuTesting/python_generated_gvs/python_mathieu_se_gvs_q{q:.6f}.csv'\n",
    "    \n",
    "    with open(filename, 'w') as fh:\n",
    "        # First write q value to file.\n",
    "        fh.write(f'{q:14.10f}\\n')\n",
    "        \n",
    "        # Then write fcn values.\n",
    "        for i in range(len(v)):\n",
    "            # Write v value followed by all function values for this v\n",
    "            line = f'{v[i]:14.10f}'\n",
    "            for j in range(Ne):\n",
    "                line += f', {Ss[i, j]}'\n",
    "            line += '\\n'\n",
    "            fh.write(line)\n",
    "    \n",
    "    print(f'Golden values written to {filename}')\n",
    "\n",
    "# Example usage:\n",
    "if __name__ == \"__main__\":\n",
    "    # You can call it with a specific q value:\n",
    "    # write_mathieu_ce_gvs(2.5)\n",
    "    \n",
    "    # Or without arguments (will prompt for input):\n",
    "    Q =  np.array([-100, -30, -10, -1, -0.1, -0.001, 0.001, 0.01, 0.1, 1, 10, 30, 100])\n",
    "    # Q =  np.array([0.1])\n",
    "\n",
    "    for q in Q:\n",
    "        write_mathieu_se_gvs(q)\n",
    "\n",
    "    # incorrect value written out\n",
    "    "
   ]
  }
 ],
 "metadata": {
  "kernelspec": {
   "display_name": "mathieu (3.13.1)",
   "language": "python",
   "name": "python3"
  },
  "language_info": {
   "codemirror_mode": {
    "name": "ipython",
    "version": 3
   },
   "file_extension": ".py",
   "mimetype": "text/x-python",
   "name": "python",
   "nbconvert_exporter": "python",
   "pygments_lexer": "ipython3",
   "version": "3.13.1"
  }
 },
 "nbformat": 4,
 "nbformat_minor": 5
}
