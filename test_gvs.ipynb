{
 "cells": [
  {
   "cell_type": "code",
   "execution_count": 20,
   "id": "09995bef",
   "metadata": {},
   "outputs": [],
   "source": [
    "import pandas as pd\n",
    "import numpy as np\n"
   ]
  },
  {
   "cell_type": "markdown",
   "id": "3dd68bff",
   "metadata": {},
   "source": [
    "pre-q len is 16\n",
    "post-q len is 4\n"
   ]
  },
  {
   "cell_type": "code",
   "execution_count": 21,
   "id": "315ae376",
   "metadata": {},
   "outputs": [
    {
     "data": {
      "text/plain": [
       "np.float64(-1.468755664102936)"
      ]
     },
     "execution_count": 21,
     "metadata": {},
     "output_type": "execute_result"
    }
   ],
   "source": [
    "from scipy.special import mathieu_cem, mathieu_sem\n",
    "mathieu_cem(1, -10, -180)[0]"
   ]
  },
  {
   "cell_type": "code",
   "execution_count": 22,
   "id": "9ee23ae2",
   "metadata": {},
   "outputs": [
    {
     "name": "stdout",
     "output_type": "stream",
     "text": [
      "/Users/aliamy/Desktop/Mathieu/GVs/mathieu_ce_gvs_q-10.csv\n",
      "/Users/aliamy/Desktop/Mathieu/GVs/mathieu_ce_gvs_q30.csv\n",
      "/Users/aliamy/Desktop/Mathieu/GVs/mathieu_ce_gvs_q-0.001.csv\n",
      "/Users/aliamy/Desktop/Mathieu/GVs/mathieu_ce_gvs_q1.csv\n",
      "/Users/aliamy/Desktop/Mathieu/GVs/mathieu_ce_gvs_q0.01.csv\n",
      "/Users/aliamy/Desktop/Mathieu/GVs/mathieu_ce_gvs_q-1.csv\n",
      "/Users/aliamy/Desktop/Mathieu/GVs/mathieu_ce_gvs_q0.1.csv\n",
      "/Users/aliamy/Desktop/Mathieu/GVs/mathieu_ce_gvs_q-0.1.csv\n",
      "/Users/aliamy/Desktop/Mathieu/GVs/mathieu_ce_gvs_q0.001.csv\n",
      "/Users/aliamy/Desktop/Mathieu/GVs/mathieu_ce_gvs_q10.csv\n",
      "/Users/aliamy/Desktop/Mathieu/GVs/mathieu_ce_gvs_q-30.csv\n"
     ]
    }
   ],
   "source": [
    "from scipy.special import mathieu_cem, mathieu_sem\n",
    "import numpy as np\n",
    "import glob\n",
    "import os\n",
    "import csv\n",
    "\n",
    "\n",
    "file_pattern = '/Users/aliamy/Desktop/Mathieu/GVs/mathieu_ce_gvs*'\n",
    "matching_files = glob.glob(file_pattern)\n",
    "row_headers = np.linspace(-180, 180, 2500)\n",
    "row_index = range(2500)\n",
    "\n",
    "for file in matching_files:\n",
    "    print(file)\n",
    "    data = np.loadtxt(file, delimiter=',', skiprows=1)\n",
    "\n",
    "    q = float(file[50:-4])\n",
    "    \n",
    "    \n",
    "    diff_npass = []\n",
    "    sp_npass = []\n",
    "    gv_npass = []\n",
    "    m_npass = []\n",
    "    v_npass = []\n",
    "\n",
    "    # print(data)\n",
    "    for v, v_ind in zip(row_headers, row_index):\n",
    "        for m in range(1, 35): # how do i get the corresponding value?\n",
    "            sp = mathieu_cem(m, q, v)[0]\n",
    "            gv = data[v_ind, m + 1]\n",
    "            # print(data)\n",
    "            if not np.isclose(sp, gv, atol=2e-6): # why is it has to be m+1 \n",
    "                diff = np.abs(sp - gv)\n",
    "                diff_npass.append(diff)\n",
    "                sp_npass.append(sp)\n",
    "                gv_npass.append(gv)\n",
    "                m_npass.append(m)\n",
    "                v_npass.append(v)\n",
    "                # if np.isclose(q, 1.0):\n",
    "                #     print(f'mathieu_cem when q:{q}, v:{v}, m:{m} does not pass the test, scipy value:{sp}, gv: {gv}, diff: {diff} ')\n",
    "    \n",
    "    results_df = pd.DataFrame({'m': m_npass, 'v': v_npass, 'gv': gv_npass, 'sp': sp_npass, 'diff': diff_npass})\n",
    "    results_df.to_csv(f\"not_passed_ce_q{q}.csv\", index=False)\n",
    "\n",
    "\n",
    "\n"
   ]
  },
  {
   "cell_type": "code",
   "execution_count": 23,
   "id": "f7879118",
   "metadata": {},
   "outputs": [
    {
     "name": "stdout",
     "output_type": "stream",
     "text": [
      "/Users/aliamy/Desktop/Mathieu/GVs/mathieu_ce_gvs_q1.csv\n",
      "[[-3.14159265  0.38482737 -0.85659766 ...  1.00048847 -1.00045924\n",
      "   1.000433  ]\n",
      " [-3.13907837  0.38483036 -0.85659804 ...  0.9972583  -0.99702385\n",
      "   0.996786  ]\n",
      " [-3.13656409  0.38483932 -0.85659918 ...  0.98758864 -0.98674125\n",
      "   0.985871  ]\n",
      " ...\n",
      " [ 3.13656409  0.38483932 -0.85659918 ...  0.98758864 -0.98674125\n",
      "   0.985871  ]\n",
      " [ 3.13907837  0.38483036 -0.85659804 ...  0.9972583  -0.99702385\n",
      "   0.996786  ]\n",
      " [ 3.14159265  0.38482737 -0.85659766 ...  1.00048847 -1.00045924\n",
      "   1.000433  ]]\n"
     ]
    }
   ],
   "source": [
    "print(matching_files[3])\n",
    "data = np.loadtxt(matching_files[3], delimiter=',', skiprows=1)\n",
    "print(data)"
   ]
  },
  {
   "cell_type": "code",
   "execution_count": 24,
   "id": "adc37aa0",
   "metadata": {},
   "outputs": [
    {
     "name": "stdout",
     "output_type": "stream",
     "text": [
      "/Users/aliamy/Desktop/Mathieu/GVs/mathieu_se_gvs_q1.csv\n",
      "1.0\n",
      "/Users/aliamy/Desktop/Mathieu/GVs/mathieu_se_gvs_q-100.csv\n",
      "-100.0\n",
      "/Users/aliamy/Desktop/Mathieu/GVs/mathieu_se_gvs_q-30.csv\n",
      "-30.0\n",
      "/Users/aliamy/Desktop/Mathieu/GVs/mathieu_se_gvs_q-0.1.csv\n",
      "-0.1\n",
      "/Users/aliamy/Desktop/Mathieu/GVs/mathieu_se_gvs_q0.001.csv\n",
      "0.001\n",
      "/Users/aliamy/Desktop/Mathieu/GVs/mathieu_se_gvs_q10.csv\n",
      "10.0\n",
      "/Users/aliamy/Desktop/Mathieu/GVs/mathieu_se_gvs_q-0.001.csv\n",
      "-0.001\n",
      "/Users/aliamy/Desktop/Mathieu/GVs/mathieu_se_gvs_q0.1.csv\n",
      "0.1\n",
      "/Users/aliamy/Desktop/Mathieu/GVs/mathieu_se_gvs_q30.csv\n",
      "30.0\n",
      "/Users/aliamy/Desktop/Mathieu/GVs/mathieu_se_gvs_q0.01.csv\n",
      "0.01\n",
      "/Users/aliamy/Desktop/Mathieu/GVs/mathieu_se_gvs_q-1.csv\n",
      "-1.0\n",
      "/Users/aliamy/Desktop/Mathieu/GVs/mathieu_se_gvs_q-10.csv\n",
      "-10.0\n"
     ]
    }
   ],
   "source": [
    "file_pattern = '/Users/aliamy/Desktop/Mathieu/GVs/mathieu_se_gvs*'\n",
    "matching_files = glob.glob(file_pattern)\n",
    "row_headers = np.linspace(-180, 180, 2500)\n",
    "row_index = range(2500)\n",
    "\n",
    "for file in matching_files:\n",
    "    print(file)\n",
    "    data = np.loadtxt(file, delimiter=',', skiprows=1)\n",
    "    q = float(file[50:-4])\n",
    "    print(q)\n",
    "    \n",
    "    \n",
    "    diff_npass = []\n",
    "    sp_npass = []\n",
    "    gv_npass = []\n",
    "    m_npass = []\n",
    "    v_npass = []\n",
    "\n",
    "    for v, v_ind in zip(row_headers, row_index):\n",
    "        for m in range(1, 36): # how do i get the corresponding value?\n",
    "            sp = mathieu_sem(m, q, v)[0]\n",
    "            gv = data[v_ind, m ]\n",
    "            if not np.isclose(sp, gv, atol=2e-6): # why is it has to be m+1 \n",
    "                diff = np.abs(sp - gv)\n",
    "                diff_npass.append(diff)\n",
    "                sp_npass.append(sp)\n",
    "                gv_npass.append(gv)\n",
    "                m_npass.append(m)\n",
    "                v_npass.append(v)\n",
    "                # print(f'mathieu_sem when q:{q}, v:{v}, m:{m} does not pass the test, scipy value:{sp}, gv: {gv}, diff: {diff} ')\n",
    "\n",
    "    results_df = pd.DataFrame({'m': m_npass, 'v': v_npass, 'gv': gv_npass, 'sp': sp_npass, 'diff': diff_npass})\n",
    "    results_df.to_csv(f\"not_passed_se_q{q}.csv\", index=False)\n"
   ]
  },
  {
   "cell_type": "code",
   "execution_count": 25,
   "id": "5d445e75",
   "metadata": {},
   "outputs": [
    {
     "name": "stdout",
     "output_type": "stream",
     "text": [
      "(np.float64(7.046345946662972e-16), np.float64(-1.000375065106601))\n"
     ]
    }
   ],
   "source": [
    "print(mathieu_sem(1, -0.001, -180))"
   ]
  }
 ],
 "metadata": {
  "kernelspec": {
   "display_name": "mathieu (3.13.1)",
   "language": "python",
   "name": "python3"
  },
  "language_info": {
   "codemirror_mode": {
    "name": "ipython",
    "version": 3
   },
   "file_extension": ".py",
   "mimetype": "text/x-python",
   "name": "python",
   "nbconvert_exporter": "python",
   "pygments_lexer": "ipython3",
   "version": "3.13.1"
  }
 },
 "nbformat": 4,
 "nbformat_minor": 5
}
